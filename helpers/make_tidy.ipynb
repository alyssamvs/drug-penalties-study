{
 "cells": [
  {
   "cell_type": "code",
   "execution_count": 1,
   "metadata": {},
   "outputs": [
    {
     "name": "stdout",
     "output_type": "stream",
     "text": [
      "✔ Wrote 17 rows to tidy_penalties_EU.csv\n"
     ]
    },
    {
     "name": "stderr",
     "output_type": "stream",
     "text": [
      "/var/folders/j7/dn83sm3d5cj4sxr3fn9d259h0000gp/T/ipykernel_95600/4243248132.py:11: SettingWithCopyWarning: \n",
      "A value is trying to be set on a copy of a slice from a DataFrame.\n",
      "Try using .loc[row_indexer,col_indexer] = value instead\n",
      "\n",
      "See the caveats in the documentation: https://pandas.pydata.org/pandas-docs/stable/user_guide/indexing.html#returning-a-view-versus-a-copy\n",
      "  eu_countries[num_cols] = eu_countries[num_cols].apply(pd.to_numeric, errors=\"coerce\")\n"
     ]
    }
   ],
   "source": [
    "import pandas as pd\n",
    "\n",
    "# --- 0. read master ---\n",
    "df = pd.read_csv(\"country_data.csv\", dtype=\"string\").fillna(\"\")\n",
    "\n",
    "# --- 1. keep only EU+EEA countries ---\n",
    "eu_countries = df[df[\"Continent\"] == \"Europe\"]\n",
    "\n",
    "# --- 2. numeric conversion ---\n",
    "num_cols = [\"Minimum Sentence [POSSESSION]\", \"Maximum Sentence [POSSESSION]\"]\n",
    "eu_countries[num_cols] = eu_countries[num_cols].apply(pd.to_numeric, errors=\"coerce\")\n",
    "\n",
    "# --- 3. reshape: ONLY the minimum sentences, for all offence types ---\n",
    "metrics = [c for c in df.columns if c.startswith(\"Minimum Sentence\")]\n",
    "tidy = eu_countries.melt(\n",
    "    id_vars=[\"Country\"],\n",
    "    value_vars=metrics,\n",
    "    var_name=\"Metric\",\n",
    "    value_name=\"Years\"\n",
    ")\n",
    "\n",
    "# --- 4. drop rows where Years is NaN ---\n",
    "tidy = tidy.dropna(subset=[\"Years\"])\n",
    "\n",
    "# --- 5. write file ---\n",
    "tidy.to_csv(\"tidy_penalties_EU.csv\", index=False)\n",
    "print(\"✔ Wrote\", len(tidy), \"rows to tidy_penalties_EU.csv\")\n"
   ]
  },
  {
   "cell_type": "code",
   "execution_count": 10,
   "metadata": {},
   "outputs": [
    {
     "data": {
      "application/vnd.jupyter.widget-view+json": {
       "model_id": "7a9579dbce9e4718bdcb16a7cbcb0ee8",
       "version_major": 2,
       "version_minor": 0
      },
      "text/plain": [
       "VBox(children=(SelectMultiple(description='Metrics (⌘/Ctrl-click to select many):', layout=Layout(height='280p…"
      ]
     },
     "metadata": {},
     "output_type": "display_data"
    }
   ],
   "source": [
    "# TIDY-CSV EXPORT PANEL  (copy this single cell into a notebook)\n",
    "# -------------------------------------------------------------\n",
    "from pathlib import Path\n",
    "import pandas as pd, ipywidgets as w\n",
    "from IPython.display import display\n",
    "\n",
    "# ── 0. read the wide master once ─────────────────────────────\n",
    "df = pd.read_csv(\"country_data.csv\", dtype=\"string\").fillna(\"\")\n",
    "\n",
    "# columns that should stay wide (identifiers)\n",
    "id_cols = [\"Country\", \"Continent\"]\n",
    "\n",
    "# ── 1. widget: multi-select list of possible MEASURE columns ─\n",
    "measure_options = [c for c in df.columns if c not in id_cols]\n",
    "\n",
    "measure_select = w.SelectMultiple(\n",
    "    options=measure_options,\n",
    "    description=\"Metrics (⌘/Ctrl-click to select many):\",\n",
    "    rows=12,\n",
    "    style={\"description_width\": \"initial\"},\n",
    "    layout=w.Layout(width=\"700px\", height=\"280px\")\n",
    ")\n",
    "\n",
    "# ── 2. widget: output filename textbox ───────────────────────\n",
    "file_box = w.Text(\n",
    "    value=\"tidy_output.csv\",\n",
    "    description=\"Output file:\",\n",
    "    layout=w.Layout(width=\"300px\")\n",
    ")\n",
    "\n",
    "# ── 3. Generate button + info area ───────────────────────────\n",
    "run_btn  = w.Button(description=\"Generate tidy CSV\", button_style=\"success\")\n",
    "info_out = w.Output()\n",
    "\n",
    "# ── 4. callback that builds & writes the tidy file ───────────\n",
    "def make_tidy(_):\n",
    "    chosen = list(measure_select.value)\n",
    "    if not chosen:\n",
    "        with info_out:\n",
    "            info_out.clear_output()\n",
    "            print(\"⚠ Select at least one metric column.\")\n",
    "        return\n",
    "\n",
    "    # 4a. reshape from wide to long\n",
    "    tidy = df.melt(\n",
    "        id_vars=id_cols,\n",
    "        value_vars=chosen,\n",
    "        var_name=\"Metric\",\n",
    "        value_name=\"Value\"\n",
    "    )\n",
    "\n",
    "    # 4b. numeric conversion\n",
    "    mask = tidy[\"Metric\"].str.contains(\"Sentence\", na=False)\n",
    "    num  = pd.to_numeric(tidy.loc[mask, \"Value\"], errors=\"coerce\")\n",
    "\n",
    "    # ensure the column can hold mixed types (strings + floats)\n",
    "    tidy[\"Value\"] = tidy[\"Value\"].astype(\"object\")\n",
    "    tidy.loc[mask, \"Value\"] = num\n",
    "\n",
    "    # 4c. build tidy/filename.csv and ensure folder exists\n",
    "    out_path = Path(\"tidy\") / Path(file_box.value).with_suffix(\".csv\")\n",
    "    out_path.parent.mkdir(exist_ok=True)   # creates tidy/ if absent\n",
    "\n",
    "    tidy.to_csv(out_path, index=False, encoding=\"utf-8\")\n",
    "\n",
    "    # 4d. feedback\n",
    "    with info_out:\n",
    "        info_out.clear_output()\n",
    "        print(f\"✅ Wrote {len(tidy)} rows → {out_path}\")\n",
    "        display(tidy.head())\n",
    "\n",
    "run_btn.on_click(make_tidy)\n",
    "\n",
    "# ── 5. assemble the panel ───────────────────────────────────\n",
    "panel = w.VBox([measure_select, file_box, run_btn, info_out])\n",
    "display(panel)\n"
   ]
  }
 ],
 "metadata": {
  "kernelspec": {
   "display_name": ".venv",
   "language": "python",
   "name": "python3"
  },
  "language_info": {
   "codemirror_mode": {
    "name": "ipython",
    "version": 3
   },
   "file_extension": ".py",
   "mimetype": "text/x-python",
   "name": "python",
   "nbconvert_exporter": "python",
   "pygments_lexer": "ipython3",
   "version": "3.12.2"
  }
 },
 "nbformat": 4,
 "nbformat_minor": 2
}
