{
 "cells": [
  {
   "cell_type": "code",
   "execution_count": null,
   "metadata": {},
   "outputs": [],
   "source": [
    "import pandas as pd\n",
    "import numpy as np\n",
    "\n",
    "# 1. Data Loading (expand your current approach)\n",
    "def load_master_data():\n",
    "    \"\"\"Load and combine all dimension data\"\"\"\n",
    "    df = pd.read_csv('data/processed/master_dataset.csv')\n",
    "    return df\n",
    "\n",
    "# 2. Dimension Score Calculations\n",
    "def calculate_legal_framework_score(df):\n",
    "    \"\"\"Calculate Legal Framework dimension score\"\"\"\n",
    "    legal_cols = [col for col in df.columns if col.startswith('LEG_')]\n",
    "    df['Legal_Framework'] = df[legal_cols].mean(axis=1)\n",
    "    return df\n",
    "\n",
    "def calculate_enforcement_score(df):\n",
    "    \"\"\"Calculate Enforcement dimension score\"\"\"\n",
    "    enf_cols = [col for col in df.columns if col.startswith('ENF_')]\n",
    "    df['Enforcement'] = df[enf_cols].mean(axis=1)\n",
    "    return df\n",
    "\n",
    "# 3. CPEI Composite Calculation\n",
    "def calculate_cpei(df):\n",
    "    \"\"\"Calculate final CPEI score\"\"\"\n",
    "    weights = {\n",
    "        'Legal_Framework': 0.25,\n",
    "        'Enforcement': 0.30,\n",
    "        'International': 0.20,\n",
    "        'Supply_Chain': 0.20,\n",
    "        'Harm_Reduction': 0.05\n",
    "    }\n",
    "    \n",
    "    df['CPEI_Score'] = (\n",
    "        df['Legal_Framework'] * weights['Legal_Framework'] +\n",
    "        df['Enforcement'] * weights['Enforcement'] +\n",
    "        df['International'] * weights['International'] +\n",
    "        df['Supply_Chain'] * weights['Supply_Chain'] +\n",
    "        df['Harm_Reduction'] * weights['Harm_Reduction']\n",
    "    )\n",
    "    \n",
    "    df['Rank'] = df['CPEI_Score'].rank(method='min', ascending=False)\n",
    "    return df"
   ]
  }
 ],
 "metadata": {
  "language_info": {
   "name": "python"
  }
 },
 "nbformat": 4,
 "nbformat_minor": 2
}
